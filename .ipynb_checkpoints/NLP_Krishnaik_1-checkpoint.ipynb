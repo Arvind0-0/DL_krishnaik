{
 "cells": [
  {
   "cell_type": "code",
   "execution_count": 53,
   "id": "554638f0",
   "metadata": {},
   "outputs": [],
   "source": [
    "## This file contains all only bag of words method "
   ]
  },
  {
   "cell_type": "code",
   "execution_count": 1,
   "id": "2e56f0e4",
   "metadata": {},
   "outputs": [
    {
     "name": "stdout",
     "output_type": "stream",
     "text": [
      "Requirement already satisfied: nltk in c:\\users\\as799\\anaconda3\\lib\\site-packages (3.8.1)\n",
      "Requirement already satisfied: click in c:\\users\\as799\\anaconda3\\lib\\site-packages (from nltk) (8.1.7)\n",
      "Requirement already satisfied: joblib in c:\\users\\as799\\anaconda3\\lib\\site-packages (from nltk) (1.2.0)\n",
      "Requirement already satisfied: regex>=2021.8.3 in c:\\users\\as799\\anaconda3\\lib\\site-packages (from nltk) (2023.10.3)\n",
      "Requirement already satisfied: tqdm in c:\\users\\as799\\anaconda3\\lib\\site-packages (from nltk) (4.65.0)\n",
      "Requirement already satisfied: colorama in c:\\users\\as799\\anaconda3\\lib\\site-packages (from click->nltk) (0.4.6)\n"
     ]
    }
   ],
   "source": [
    "! pip install nltk"
   ]
  },
  {
   "cell_type": "code",
   "execution_count": 2,
   "id": "3e6d9453",
   "metadata": {},
   "outputs": [],
   "source": [
    "paragraph = \"\"\"\n",
    "Arvind Kejriwal (Hindi pronunciation: [əɾʋin̪d̪ ked͡ʒɾmeːʋaːl]; born 16 August 1968) is an Indian politician, activist and former bureaucrat, who is serving as the 7th and current Chief Minister of Delhi since 2015, after his first term in teh post from 2013 to 2014. He is also teh national convener of teh Aam Aadmi Party since 2012. He has represented teh New Delhi constituency in teh Delhi Legislative Assembly since 2015 and from 2013 to 2014.\n",
    "\n",
    "In 2006, Kejriwal was awarded teh Ramon Magsaysay Award for his involvement in the Parivartan movement using right to information legislation in a campaign against government corruption. Teh same year, after resigning from Government service, he founded teh Public Cause Research Foundation to campaign for transparent governance. Before entering politics, Kejriwal had worked in the Indian Revenue Service. Prior to that, he was a mechanical engineer from IIT Kharagpur.\n",
    "\n",
    "In 2012, he launched teh Aam Aadmi Party. In 2013, he assumed office as teh Chief Minister of Delhi and resigned 49 days later over his inability to mobilise support for his proposed anti-corruption legislation. In teh 2015 Delhi Legislative assembly elections, AAP registered an unprecedented majority. In subsequent 2020 elections, AAP re-emerged victorious and retained the power in Delhi, following which, Kejriwal was sworn in as the Chief Minister of Delhi for the third time in a row. Outside Delhi, his party registered another major victory in 2022 Punjab Legislative Assembly election.\n",
    "\n",
    "\n",
    "\n",
    "\n",
    "\"\"\""
   ]
  },
  {
   "cell_type": "code",
   "execution_count": 3,
   "id": "87ce4517",
   "metadata": {},
   "outputs": [
    {
     "data": {
      "text/plain": [
       "'\\nArvind Kejriwal (Hindi pronunciation: [əɾʋin̪d̪ ked͡ʒɾmeːʋaːl]; born 16 August 1968) is an Indian politician, activist and former bureaucrat, who is serving as the 7th and current Chief Minister of Delhi since 2015, after his first term in teh post from 2013 to 2014. He is also teh national convener of teh Aam Aadmi Party since 2012. He has represented teh New Delhi constituency in teh Delhi Legislative Assembly since 2015 and from 2013 to 2014.\\n\\nIn 2006, Kejriwal was awarded teh Ramon Magsaysay Award for his involvement in the Parivartan movement using right to information legislation in a campaign against government corruption. Teh same year, after resigning from Government service, he founded teh Public Cause Research Foundation to campaign for transparent governance. Before entering politics, Kejriwal had worked in the Indian Revenue Service. Prior to that, he was a mechanical engineer from IIT Kharagpur.\\n\\nIn 2012, he launched teh Aam Aadmi Party. In 2013, he assumed office as teh Chief Minister of Delhi and resigned 49 days later over his inability to mobilise support for his proposed anti-corruption legislation. In teh 2015 Delhi Legislative assembly elections, AAP registered an unprecedented majority. In subsequent 2020 elections, AAP re-emerged victorious and retained the power in Delhi, following which, Kejriwal was sworn in as the Chief Minister of Delhi for the third time in a row. Outside Delhi, his party registered another major victory in 2022 Punjab Legislative Assembly election.\\n\\n\\n\\n\\n'"
      ]
     },
     "execution_count": 3,
     "metadata": {},
     "output_type": "execute_result"
    }
   ],
   "source": [
    "paragraph"
   ]
  },
  {
   "cell_type": "code",
   "execution_count": 5,
   "id": "13791adf",
   "metadata": {},
   "outputs": [],
   "source": [
    "import nltk\n",
    "from nltk.stem import PorterStemmer\n",
    "from nltk.corpus import stopwords"
   ]
  },
  {
   "cell_type": "code",
   "execution_count": 6,
   "id": "c2550494",
   "metadata": {},
   "outputs": [
    {
     "name": "stderr",
     "output_type": "stream",
     "text": [
      "[nltk_data] Downloading package punkt to\n",
      "[nltk_data]     C:\\Users\\as799\\AppData\\Roaming\\nltk_data...\n",
      "[nltk_data]   Package punkt is already up-to-date!\n"
     ]
    }
   ],
   "source": [
    "## Tokenization --> Converts paragraph --> sentences \n",
    "nltk.download('punkt')\n",
    "sentences = nltk.sent_tokenize(paragraph)"
   ]
  },
  {
   "cell_type": "code",
   "execution_count": 7,
   "id": "5b8548ff",
   "metadata": {},
   "outputs": [
    {
     "name": "stdout",
     "output_type": "stream",
     "text": [
      "['\\nArvind Kejriwal (Hindi pronunciation: [əɾʋin̪d̪ ked͡ʒɾmeːʋaːl]; born 16 August 1968) is an Indian politician, activist and former bureaucrat, who is serving as the 7th and current Chief Minister of Delhi since 2015, after his first term in teh post from 2013 to 2014.', 'He is also teh national convener of teh Aam Aadmi Party since 2012.', 'He has represented teh New Delhi constituency in teh Delhi Legislative Assembly since 2015 and from 2013 to 2014.', 'In 2006, Kejriwal was awarded teh Ramon Magsaysay Award for his involvement in the Parivartan movement using right to information legislation in a campaign against government corruption.', 'Teh same year, after resigning from Government service, he founded teh Public Cause Research Foundation to campaign for transparent governance.', 'Before entering politics, Kejriwal had worked in the Indian Revenue Service.', 'Prior to that, he was a mechanical engineer from IIT Kharagpur.', 'In 2012, he launched teh Aam Aadmi Party.', 'In 2013, he assumed office as teh Chief Minister of Delhi and resigned 49 days later over his inability to mobilise support for his proposed anti-corruption legislation.', 'In teh 2015 Delhi Legislative assembly elections, AAP registered an unprecedented majority.', 'In subsequent 2020 elections, AAP re-emerged victorious and retained the power in Delhi, following which, Kejriwal was sworn in as the Chief Minister of Delhi for the third time in a row.', 'Outside Delhi, his party registered another major victory in 2022 Punjab Legislative Assembly election.']\n"
     ]
    }
   ],
   "source": [
    "print(sentences)"
   ]
  },
  {
   "cell_type": "code",
   "execution_count": 11,
   "id": "eae0cf35",
   "metadata": {},
   "outputs": [],
   "source": [
    "stemmer = PorterStemmer()"
   ]
  },
  {
   "cell_type": "code",
   "execution_count": 12,
   "id": "711b21da",
   "metadata": {},
   "outputs": [
    {
     "data": {
      "text/plain": [
       "'histori'"
      ]
     },
     "execution_count": 12,
     "metadata": {},
     "output_type": "execute_result"
    }
   ],
   "source": [
    "stemmer.stem('history')"
   ]
  },
  {
   "cell_type": "code",
   "execution_count": 20,
   "id": "0522862c",
   "metadata": {},
   "outputs": [
    {
     "name": "stderr",
     "output_type": "stream",
     "text": [
      "[nltk_data] Downloading package wordnet to\n",
      "[nltk_data]     C:\\Users\\as799\\AppData\\Roaming\\nltk_data...\n"
     ]
    },
    {
     "data": {
      "text/plain": [
       "True"
      ]
     },
     "execution_count": 20,
     "metadata": {},
     "output_type": "execute_result"
    }
   ],
   "source": [
    "from nltk.stem import WordNetLemmatizer\n",
    "nltk.download('wordnet')"
   ]
  },
  {
   "cell_type": "code",
   "execution_count": 21,
   "id": "d9313874",
   "metadata": {},
   "outputs": [],
   "source": [
    "lemmatizer = WordNetLemmatizer()"
   ]
  },
  {
   "cell_type": "code",
   "execution_count": 22,
   "id": "fd830da6",
   "metadata": {},
   "outputs": [
    {
     "data": {
      "text/plain": [
       "'go'"
      ]
     },
     "execution_count": 22,
     "metadata": {},
     "output_type": "execute_result"
    }
   ],
   "source": [
    "lemmatizer.lemmatize('goes')"
   ]
  },
  {
   "cell_type": "code",
   "execution_count": 25,
   "id": "953022a2",
   "metadata": {},
   "outputs": [],
   "source": [
    "import re"
   ]
  },
  {
   "cell_type": "code",
   "execution_count": 27,
   "id": "cca6d800",
   "metadata": {},
   "outputs": [],
   "source": [
    "\n",
    "corpus=[]\n",
    "for i in range(len(sentences)):\n",
    "    review = re.sub('[^a-zA-Z]',' ',sentences[i])\n",
    "    review = review.lower()\n",
    "    corpus.append(review)"
   ]
  },
  {
   "cell_type": "code",
   "execution_count": 28,
   "id": "957ae14f",
   "metadata": {},
   "outputs": [
    {
     "data": {
      "text/plain": [
       "[' arvind kejriwal  hindi pronunciation      in d  ked   me  a l   born    august       is an indian politician  activist and former bureaucrat  who is serving as the  th and current chief minister of delhi since       after his first term in teh post from      to      ',\n",
       " 'he is also teh national convener of teh aam aadmi party since      ',\n",
       " 'he has represented teh new delhi constituency in teh delhi legislative assembly since      and from      to      ',\n",
       " 'in       kejriwal was awarded teh ramon magsaysay award for his involvement in the parivartan movement using right to information legislation in a campaign against government corruption ',\n",
       " 'teh same year  after resigning from government service  he founded teh public cause research foundation to campaign for transparent governance ',\n",
       " 'before entering politics  kejriwal had worked in the indian revenue service ',\n",
       " 'prior to that  he was a mechanical engineer from iit kharagpur ',\n",
       " 'in       he launched teh aam aadmi party ',\n",
       " 'in       he assumed office as teh chief minister of delhi and resigned    days later over his inability to mobilise support for his proposed anti corruption legislation ',\n",
       " 'in teh      delhi legislative assembly elections  aap registered an unprecedented majority ',\n",
       " 'in subsequent      elections  aap re emerged victorious and retained the power in delhi  following which  kejriwal was sworn in as the chief minister of delhi for the third time in a row ',\n",
       " 'outside delhi  his party registered another major victory in      punjab legislative assembly election ']"
      ]
     },
     "execution_count": 28,
     "metadata": {},
     "output_type": "execute_result"
    }
   ],
   "source": [
    "corpus"
   ]
  },
  {
   "cell_type": "code",
   "execution_count": 32,
   "id": "0790779c",
   "metadata": {},
   "outputs": [
    {
     "data": {
      "text/plain": [
       "['i',\n",
       " 'me',\n",
       " 'my',\n",
       " 'myself',\n",
       " 'we',\n",
       " 'our',\n",
       " 'ours',\n",
       " 'ourselves',\n",
       " 'you',\n",
       " \"you're\",\n",
       " \"you've\",\n",
       " \"you'll\",\n",
       " \"you'd\",\n",
       " 'your',\n",
       " 'yours',\n",
       " 'yourself',\n",
       " 'yourselves',\n",
       " 'he',\n",
       " 'him',\n",
       " 'his',\n",
       " 'himself',\n",
       " 'she',\n",
       " \"she's\",\n",
       " 'her',\n",
       " 'hers',\n",
       " 'herself',\n",
       " 'it',\n",
       " \"it's\",\n",
       " 'its',\n",
       " 'itself',\n",
       " 'they',\n",
       " 'them',\n",
       " 'their',\n",
       " 'theirs',\n",
       " 'themselves',\n",
       " 'what',\n",
       " 'which',\n",
       " 'who',\n",
       " 'whom',\n",
       " 'this',\n",
       " 'that',\n",
       " \"that'll\",\n",
       " 'these',\n",
       " 'those',\n",
       " 'am',\n",
       " 'is',\n",
       " 'are',\n",
       " 'was',\n",
       " 'were',\n",
       " 'be',\n",
       " 'been',\n",
       " 'being',\n",
       " 'have',\n",
       " 'has',\n",
       " 'had',\n",
       " 'having',\n",
       " 'do',\n",
       " 'does',\n",
       " 'did',\n",
       " 'doing',\n",
       " 'a',\n",
       " 'an',\n",
       " 'the',\n",
       " 'and',\n",
       " 'but',\n",
       " 'if',\n",
       " 'or',\n",
       " 'because',\n",
       " 'as',\n",
       " 'until',\n",
       " 'while',\n",
       " 'of',\n",
       " 'at',\n",
       " 'by',\n",
       " 'for',\n",
       " 'with',\n",
       " 'about',\n",
       " 'against',\n",
       " 'between',\n",
       " 'into',\n",
       " 'through',\n",
       " 'during',\n",
       " 'before',\n",
       " 'after',\n",
       " 'above',\n",
       " 'below',\n",
       " 'to',\n",
       " 'from',\n",
       " 'up',\n",
       " 'down',\n",
       " 'in',\n",
       " 'out',\n",
       " 'on',\n",
       " 'off',\n",
       " 'over',\n",
       " 'under',\n",
       " 'again',\n",
       " 'further',\n",
       " 'then',\n",
       " 'once',\n",
       " 'here',\n",
       " 'there',\n",
       " 'when',\n",
       " 'where',\n",
       " 'why',\n",
       " 'how',\n",
       " 'all',\n",
       " 'any',\n",
       " 'both',\n",
       " 'each',\n",
       " 'few',\n",
       " 'more',\n",
       " 'most',\n",
       " 'other',\n",
       " 'some',\n",
       " 'such',\n",
       " 'no',\n",
       " 'nor',\n",
       " 'not',\n",
       " 'only',\n",
       " 'own',\n",
       " 'same',\n",
       " 'so',\n",
       " 'than',\n",
       " 'too',\n",
       " 'very',\n",
       " 's',\n",
       " 't',\n",
       " 'can',\n",
       " 'will',\n",
       " 'just',\n",
       " 'don',\n",
       " \"don't\",\n",
       " 'should',\n",
       " \"should've\",\n",
       " 'now',\n",
       " 'd',\n",
       " 'll',\n",
       " 'm',\n",
       " 'o',\n",
       " 're',\n",
       " 've',\n",
       " 'y',\n",
       " 'ain',\n",
       " 'aren',\n",
       " \"aren't\",\n",
       " 'couldn',\n",
       " \"couldn't\",\n",
       " 'didn',\n",
       " \"didn't\",\n",
       " 'doesn',\n",
       " \"doesn't\",\n",
       " 'hadn',\n",
       " \"hadn't\",\n",
       " 'hasn',\n",
       " \"hasn't\",\n",
       " 'haven',\n",
       " \"haven't\",\n",
       " 'isn',\n",
       " \"isn't\",\n",
       " 'ma',\n",
       " 'mightn',\n",
       " \"mightn't\",\n",
       " 'mustn',\n",
       " \"mustn't\",\n",
       " 'needn',\n",
       " \"needn't\",\n",
       " 'shan',\n",
       " \"shan't\",\n",
       " 'shouldn',\n",
       " \"shouldn't\",\n",
       " 'wasn',\n",
       " \"wasn't\",\n",
       " 'weren',\n",
       " \"weren't\",\n",
       " 'won',\n",
       " \"won't\",\n",
       " 'wouldn',\n",
       " \"wouldn't\"]"
      ]
     },
     "execution_count": 32,
     "metadata": {},
     "output_type": "execute_result"
    }
   ],
   "source": [
    "stopwords.words('english')"
   ]
  },
  {
   "cell_type": "code",
   "execution_count": 31,
   "id": "bf0df936",
   "metadata": {},
   "outputs": [
    {
     "name": "stdout",
     "output_type": "stream",
     "text": [
      "arvind\n",
      "kejriw\n",
      "hindi\n",
      "pronunci\n",
      "ked\n",
      "l\n",
      "born\n",
      "august\n",
      "indian\n",
      "politician\n",
      "activist\n",
      "former\n",
      "bureaucrat\n",
      "serv\n",
      "th\n",
      "current\n",
      "chief\n",
      "minist\n",
      "delhi\n",
      "sinc\n",
      "first\n",
      "term\n",
      "teh\n",
      "post\n",
      "also\n",
      "teh\n",
      "nation\n",
      "conven\n",
      "teh\n",
      "aam\n",
      "aadmi\n",
      "parti\n",
      "sinc\n",
      "repres\n",
      "teh\n",
      "new\n",
      "delhi\n",
      "constitu\n",
      "teh\n",
      "delhi\n",
      "legisl\n",
      "assembl\n",
      "sinc\n",
      "kejriw\n",
      "award\n",
      "teh\n",
      "ramon\n",
      "magsaysay\n",
      "award\n",
      "involv\n",
      "parivartan\n",
      "movement\n",
      "use\n",
      "right\n",
      "inform\n",
      "legisl\n",
      "campaign\n",
      "govern\n",
      "corrupt\n",
      "teh\n",
      "year\n",
      "resign\n",
      "govern\n",
      "servic\n",
      "found\n",
      "teh\n",
      "public\n",
      "caus\n",
      "research\n",
      "foundat\n",
      "campaign\n",
      "transpar\n",
      "govern\n",
      "enter\n",
      "polit\n",
      "kejriw\n",
      "work\n",
      "indian\n",
      "revenu\n",
      "servic\n",
      "prior\n",
      "mechan\n",
      "engin\n",
      "iit\n",
      "kharagpur\n",
      "launch\n",
      "teh\n",
      "aam\n",
      "aadmi\n",
      "parti\n",
      "assum\n",
      "offic\n",
      "teh\n",
      "chief\n",
      "minist\n",
      "delhi\n",
      "resign\n",
      "day\n",
      "later\n",
      "inabl\n",
      "mobilis\n",
      "support\n",
      "propos\n",
      "anti\n",
      "corrupt\n",
      "legisl\n",
      "teh\n",
      "delhi\n",
      "legisl\n",
      "assembl\n",
      "elect\n",
      "aap\n",
      "regist\n",
      "unpreced\n",
      "major\n",
      "subsequ\n",
      "elect\n",
      "aap\n",
      "emerg\n",
      "victori\n",
      "retain\n",
      "power\n",
      "delhi\n",
      "follow\n",
      "kejriw\n",
      "sworn\n",
      "chief\n",
      "minist\n",
      "delhi\n",
      "third\n",
      "time\n",
      "row\n",
      "outsid\n",
      "delhi\n",
      "parti\n",
      "regist\n",
      "anoth\n",
      "major\n",
      "victori\n",
      "punjab\n",
      "legisl\n",
      "assembl\n",
      "elect\n"
     ]
    }
   ],
   "source": [
    "## Stemming\n",
    "\n",
    "for i in corpus:\n",
    "    words = nltk.word_tokenize(i)\n",
    "    for word in words:\n",
    "        if word not in set(stopwords.words('english')):\n",
    "            print(stemmer.stem(word))"
   ]
  },
  {
   "cell_type": "code",
   "execution_count": 33,
   "id": "b693fcb3",
   "metadata": {},
   "outputs": [
    {
     "name": "stdout",
     "output_type": "stream",
     "text": [
      "arvind\n",
      "kejriwal\n",
      "hindi\n",
      "pronunciation\n",
      "ked\n",
      "l\n",
      "born\n",
      "august\n",
      "indian\n",
      "politician\n",
      "activist\n",
      "former\n",
      "bureaucrat\n",
      "serving\n",
      "th\n",
      "current\n",
      "chief\n",
      "minister\n",
      "delhi\n",
      "since\n",
      "first\n",
      "term\n",
      "teh\n",
      "post\n",
      "also\n",
      "teh\n",
      "national\n",
      "convener\n",
      "teh\n",
      "aam\n",
      "aadmi\n",
      "party\n",
      "since\n",
      "represented\n",
      "teh\n",
      "new\n",
      "delhi\n",
      "constituency\n",
      "teh\n",
      "delhi\n",
      "legislative\n",
      "assembly\n",
      "since\n",
      "kejriwal\n",
      "awarded\n",
      "teh\n",
      "ramon\n",
      "magsaysay\n",
      "award\n",
      "involvement\n",
      "parivartan\n",
      "movement\n",
      "using\n",
      "right\n",
      "information\n",
      "legislation\n",
      "campaign\n",
      "government\n",
      "corruption\n",
      "teh\n",
      "year\n",
      "resigning\n",
      "government\n",
      "service\n",
      "founded\n",
      "teh\n",
      "public\n",
      "cause\n",
      "research\n",
      "foundation\n",
      "campaign\n",
      "transparent\n",
      "governance\n",
      "entering\n",
      "politics\n",
      "kejriwal\n",
      "worked\n",
      "indian\n",
      "revenue\n",
      "service\n",
      "prior\n",
      "mechanical\n",
      "engineer\n",
      "iit\n",
      "kharagpur\n",
      "launched\n",
      "teh\n",
      "aam\n",
      "aadmi\n",
      "party\n",
      "assumed\n",
      "office\n",
      "teh\n",
      "chief\n",
      "minister\n",
      "delhi\n",
      "resigned\n",
      "day\n",
      "later\n",
      "inability\n",
      "mobilise\n",
      "support\n",
      "proposed\n",
      "anti\n",
      "corruption\n",
      "legislation\n",
      "teh\n",
      "delhi\n",
      "legislative\n",
      "assembly\n",
      "election\n",
      "aap\n",
      "registered\n",
      "unprecedented\n",
      "majority\n",
      "subsequent\n",
      "election\n",
      "aap\n",
      "emerged\n",
      "victorious\n",
      "retained\n",
      "power\n",
      "delhi\n",
      "following\n",
      "kejriwal\n",
      "sworn\n",
      "chief\n",
      "minister\n",
      "delhi\n",
      "third\n",
      "time\n",
      "row\n",
      "outside\n",
      "delhi\n",
      "party\n",
      "registered\n",
      "another\n",
      "major\n",
      "victory\n",
      "punjab\n",
      "legislative\n",
      "assembly\n",
      "election\n"
     ]
    }
   ],
   "source": [
    "## Lemmatizer\n",
    "\n",
    "for i in corpus:\n",
    "    words = nltk.word_tokenize(i)\n",
    "    for word in words:\n",
    "        if word not in set(stopwords.words('english')):\n",
    "            print(lemmatizer.lemmatize(word))"
   ]
  },
  {
   "cell_type": "code",
   "execution_count": 47,
   "id": "2e9f7d45",
   "metadata": {},
   "outputs": [],
   "source": [
    "## Apply Stopwords. lemmatize\n",
    "import re\n",
    "corpus = []\n",
    "for i in  range(len(sentences)):\n",
    "    review = re.sub('[^a-zA-Z]',' ',sentences[i])\n",
    "    review = review.lower()\n",
    "    review = review.split()\n",
    "    review = [lemmatizer.lemmatize(word) for word in review if not word in set(stopwords.words('english'))]\n",
    "    review = ' '.join(review)\n",
    "    corpus.append(review)"
   ]
  },
  {
   "cell_type": "code",
   "execution_count": 48,
   "id": "d9869bd4",
   "metadata": {},
   "outputs": [],
   "source": [
    "from sklearn.feature_extraction.text import CountVectorizer\n",
    "cv = CountVectorizer(binary=True)"
   ]
  },
  {
   "cell_type": "code",
   "execution_count": 49,
   "id": "9bdaade1",
   "metadata": {},
   "outputs": [],
   "source": [
    "X = cv.fit_transform(corpus)"
   ]
  },
  {
   "cell_type": "code",
   "execution_count": 50,
   "id": "59f83737",
   "metadata": {},
   "outputs": [
    {
     "data": {
      "text/plain": [
       "{'arvind': 7,\n",
       " 'kejriwal': 42,\n",
       " 'hindi': 35,\n",
       " 'pronunciation': 66,\n",
       " 'ked': 41,\n",
       " 'born': 13,\n",
       " 'august': 10,\n",
       " 'indian': 38,\n",
       " 'politician': 61,\n",
       " 'activist': 3,\n",
       " 'former': 30,\n",
       " 'bureaucrat': 14,\n",
       " 'serving': 81,\n",
       " 'th': 88,\n",
       " 'current': 21,\n",
       " 'chief': 17,\n",
       " 'minister': 52,\n",
       " 'delhi': 23,\n",
       " 'since': 82,\n",
       " 'first': 28,\n",
       " 'term': 87,\n",
       " 'teh': 86,\n",
       " 'post': 63,\n",
       " 'also': 4,\n",
       " 'national': 55,\n",
       " 'convener': 19,\n",
       " 'aam': 1,\n",
       " 'aadmi': 0,\n",
       " 'party': 60,\n",
       " 'represented': 72,\n",
       " 'new': 56,\n",
       " 'constituency': 18,\n",
       " 'legislative': 47,\n",
       " 'assembly': 8,\n",
       " 'awarded': 12,\n",
       " 'ramon': 70,\n",
       " 'magsaysay': 48,\n",
       " 'award': 11,\n",
       " 'involvement': 40,\n",
       " 'parivartan': 59,\n",
       " 'movement': 54,\n",
       " 'using': 93,\n",
       " 'right': 78,\n",
       " 'information': 39,\n",
       " 'legislation': 46,\n",
       " 'campaign': 15,\n",
       " 'government': 34,\n",
       " 'corruption': 20,\n",
       " 'year': 97,\n",
       " 'resigning': 75,\n",
       " 'service': 80,\n",
       " 'founded': 32,\n",
       " 'public': 68,\n",
       " 'cause': 16,\n",
       " 'research': 73,\n",
       " 'foundation': 31,\n",
       " 'transparent': 91,\n",
       " 'governance': 33,\n",
       " 'entering': 27,\n",
       " 'politics': 62,\n",
       " 'worked': 96,\n",
       " 'revenue': 77,\n",
       " 'prior': 65,\n",
       " 'mechanical': 51,\n",
       " 'engineer': 26,\n",
       " 'iit': 36,\n",
       " 'kharagpur': 43,\n",
       " 'launched': 45,\n",
       " 'assumed': 9,\n",
       " 'office': 57,\n",
       " 'resigned': 74,\n",
       " 'day': 22,\n",
       " 'later': 44,\n",
       " 'inability': 37,\n",
       " 'mobilise': 53,\n",
       " 'support': 84,\n",
       " 'proposed': 67,\n",
       " 'anti': 6,\n",
       " 'election': 24,\n",
       " 'aap': 2,\n",
       " 'registered': 71,\n",
       " 'unprecedented': 92,\n",
       " 'majority': 50,\n",
       " 'subsequent': 83,\n",
       " 'emerged': 25,\n",
       " 'victorious': 94,\n",
       " 'retained': 76,\n",
       " 'power': 64,\n",
       " 'following': 29,\n",
       " 'sworn': 85,\n",
       " 'third': 89,\n",
       " 'time': 90,\n",
       " 'row': 79,\n",
       " 'outside': 58,\n",
       " 'another': 5,\n",
       " 'major': 49,\n",
       " 'victory': 95,\n",
       " 'punjab': 69}"
      ]
     },
     "execution_count": 50,
     "metadata": {},
     "output_type": "execute_result"
    }
   ],
   "source": [
    "cv.vocabulary_"
   ]
  },
  {
   "cell_type": "code",
   "execution_count": 51,
   "id": "efcac131",
   "metadata": {},
   "outputs": [
    {
     "data": {
      "text/plain": [
       "'arvind kejriwal hindi pronunciation ked l born august indian politician activist former bureaucrat serving th current chief minister delhi since first term teh post'"
      ]
     },
     "execution_count": 51,
     "metadata": {},
     "output_type": "execute_result"
    }
   ],
   "source": [
    "corpus[0]"
   ]
  },
  {
   "cell_type": "code",
   "execution_count": 52,
   "id": "5a751baa",
   "metadata": {},
   "outputs": [
    {
     "data": {
      "text/plain": [
       "array([[0, 0, 0, 1, 0, 0, 0, 1, 0, 0, 1, 0, 0, 1, 1, 0, 0, 1, 0, 0, 0, 1,\n",
       "        0, 1, 0, 0, 0, 0, 1, 0, 1, 0, 0, 0, 0, 1, 0, 0, 1, 0, 0, 1, 1, 0,\n",
       "        0, 0, 0, 0, 0, 0, 0, 0, 1, 0, 0, 0, 0, 0, 0, 0, 0, 1, 0, 1, 0, 0,\n",
       "        1, 0, 0, 0, 0, 0, 0, 0, 0, 0, 0, 0, 0, 0, 0, 1, 1, 0, 0, 0, 1, 1,\n",
       "        1, 0, 0, 0, 0, 0, 0, 0, 0, 0]], dtype=int64)"
      ]
     },
     "execution_count": 52,
     "metadata": {},
     "output_type": "execute_result"
    }
   ],
   "source": [
    "X[0].toarray()"
   ]
  },
  {
   "cell_type": "code",
   "execution_count": null,
   "id": "2771a97a",
   "metadata": {},
   "outputs": [],
   "source": []
  }
 ],
 "metadata": {
  "kernelspec": {
   "display_name": "Python 3 (ipykernel)",
   "language": "python",
   "name": "python3"
  },
  "language_info": {
   "codemirror_mode": {
    "name": "ipython",
    "version": 3
   },
   "file_extension": ".py",
   "mimetype": "text/x-python",
   "name": "python",
   "nbconvert_exporter": "python",
   "pygments_lexer": "ipython3",
   "version": "3.11.7"
  }
 },
 "nbformat": 4,
 "nbformat_minor": 5
}
